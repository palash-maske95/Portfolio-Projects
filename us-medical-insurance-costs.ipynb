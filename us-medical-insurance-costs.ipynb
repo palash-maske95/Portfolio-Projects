{
 "cells": [
  {
   "cell_type": "markdown",
   "metadata": {},
   "source": [
    "# U.S. Medical Insurance Costs"
   ]
  },
  {
   "cell_type": "markdown",
   "metadata": {},
   "source": [
    "### Region is a new field introduced in the project which hasn't appeared during the lessons. So, one of the things I would want to analyze is what are the nuances and trends when it comes to different regions. Where are people paying higher insurance costs and what could be the reason for it. Based on this, I would be able to summarize other insights after analyzing this data. Let's start by importing the csv file into the notebook."
   ]
  },
  {
   "cell_type": "code",
   "execution_count": 7,
   "metadata": {},
   "outputs": [],
   "source": [
    "#import the CSV Library\n",
    "import csv"
   ]
  },
  {
   "cell_type": "markdown",
   "metadata": {},
   "source": [
    "After looking at the insurances.csv data, we can confirm that we have 7 columns representing different attributes. Let us open the csv file and create empyt lists to load the respective fields with the data."
   ]
  },
  {
   "cell_type": "code",
   "execution_count": 76,
   "metadata": {},
   "outputs": [],
   "source": [
    "# Open the 'insurance.csv' file for reading\n",
    "with open('insurance.csv', newline='') as insurance_csv:\n",
    "    # Create a CSV DictReader to read the contents of the file as dictionaries\n",
    "    records = csv.DictReader(insurance_csv)\n",
    "    \n",
    "    # Initialize empty lists to store data from the CSV\n",
    "    age = []        # List to store age values\n",
    "    sex = []        # List to store sex values\n",
    "    bmi = []        # List to store BMI values\n",
    "    children = []   # List to store children values\n",
    "    smoker = []     # List to store smoker status values\n",
    "    region = []     # List to store region values\n",
    "    charges = []    # List to store insurance charges values\n",
    "    \n",
    "    # Iterate through each row in the CSV\n",
    "    for row in records:\n",
    "        # Append data from the current row to respective lists\n",
    "        age.append(float(row['age']))             # Convert 'age' to float\n",
    "        sex.append(row['sex'])                    # Store 'sex' as-is (string)\n",
    "        bmi.append(float(row['bmi']))             # Convert 'bmi' to float\n",
    "        children.append(float(row['children']))   # Convert 'children' to float\n",
    "        smoker.append(row['smoker'])              # Store 'smoker' as-is (string)\n",
    "        region.append(row['region'])              # Store 'region' as-is (string)\n",
    "        charges.append(float(row['charges']))     # Convert 'charges' to float\n",
    "\n",
    "# All of our data from the 'insurance.csv' file is now in their own lists.\n"
   ]
  },
  {
   "cell_type": "markdown",
   "metadata": {},
   "source": [
    "Each of the above lists will contain the data from each of the respective columns"
   ]
  },
  {
   "cell_type": "markdown",
   "metadata": {},
   "source": [
    "Now, let's try to analyze some basic information about the data.\n",
    "\n",
    "1) Average Insurance Cost Overall"
   ]
  },
  {
   "cell_type": "code",
   "execution_count": 21,
   "metadata": {},
   "outputs": [
    {
     "name": "stdout",
     "output_type": "stream",
     "text": [
      "The average insurance cost of the population is: 13270.42\n"
     ]
    }
   ],
   "source": [
    "#defining a function to return the average cost\n",
    "average_cost_overall = 0.0\n",
    "def average_insurance_cost(charges):\n",
    "    average_cost_overall = round(sum(charges)/len(charges),2)\n",
    "    return average_cost_overall\n",
    "print(\"The average insurance cost of the population is: \" + str(average_insurance_cost(charges)))    "
   ]
  },
  {
   "cell_type": "markdown",
   "metadata": {},
   "source": [
    "2. Average age Overall"
   ]
  },
  {
   "cell_type": "code",
   "execution_count": 23,
   "metadata": {},
   "outputs": [
    {
     "name": "stdout",
     "output_type": "stream",
     "text": [
      "The average age overall is 39\n"
     ]
    }
   ],
   "source": [
    "#Calculating the average age accross the data\n",
    "average_age = 0 \n",
    "def average_age_calc(age):\n",
    "    average_age = round(sum(age)/len(age)) \n",
    "    return average_age\n",
    "print(\"The average age overall is \" + str(average_age_calc(age)))\n",
    "    "
   ]
  },
  {
   "cell_type": "markdown",
   "metadata": {},
   "source": [
    "3) Percentage of Male and Female population"
   ]
  },
  {
   "cell_type": "code",
   "execution_count": 27,
   "metadata": {},
   "outputs": [
    {
     "name": "stdout",
     "output_type": "stream",
     "text": [
      "The number of people in the study = 1338\n",
      "The number of males = 676\n",
      "The number of females = 662\n",
      "Percentage of males = 50.52 %\n",
      "Percentage of females = 49.48 %\n"
     ]
    }
   ],
   "source": [
    "#sex distribtion across the data \n",
    "num_males = 0\n",
    "num_females=0\n",
    "for i in sex:\n",
    "    if i == \"male\":\n",
    "        num_males+=1\n",
    "    else:\n",
    "        num_females+=1\n",
    "print(\"The number of people in the study = \" + str(len(sex)))\n",
    "print(\"The number of males = \" + str(num_males))\n",
    "print(\"The number of females = \" + str(num_females))\n",
    "print(\"Percentage of males = \" + str(round((num_males/len(sex))*100,2)) + \" %\")\n",
    "print(\"Percentage of females = \" + str(round((num_females/len(sex))*100,2)) + \" %\")"
   ]
  },
  {
   "cell_type": "markdown",
   "metadata": {},
   "source": [
    "We can summarize that the data seems to be fair considering almost similar percentages of males vs females for the study.\n",
    "\n",
    "Similarly, lets try to check the percentages of smoker vs non-smoker"
   ]
  },
  {
   "cell_type": "code",
   "execution_count": 77,
   "metadata": {},
   "outputs": [
    {
     "name": "stdout",
     "output_type": "stream",
     "text": [
      "The number of people in the study = 1338\n",
      "The number of smokers = 274\n",
      "The number of non-smokers = 1064\n",
      "Percentage of smokers = 20.48 %\n",
      "Percentage of non-smokers = 79.52 %\n"
     ]
    }
   ],
   "source": [
    "#Smoker stats across the data\n",
    "num_smoker = 0\n",
    "num_nonsmoker = 0\n",
    "for j in smoker:\n",
    "    if j == \"yes\":\n",
    "        num_smoker+=1\n",
    "    else:\n",
    "        num_nonsmoker+=1\n",
    "print(\"The number of people in the study = \" + str(len(smoker)))\n",
    "print(\"The number of smokers = \" + str(num_smoker))\n",
    "print(\"The number of non-smokers = \" + str(num_nonsmoker))\n",
    "print(\"Percentage of smokers = \" + str(round((num_smoker/len(smoker))*100,2)) + \" %\")\n",
    "print(\"Percentage of non-smokers = \" + str(round((num_nonsmoker/len(smoker))*100,2)) + \" %\")"
   ]
  },
  {
   "cell_type": "markdown",
   "metadata": {},
   "source": [
    "We can see that we have nearly 80% of population who are not smoking, so that is good sign.\n",
    "\n",
    "Now, we will do a region based analysis and check what insights can be drawn from it."
   ]
  },
  {
   "cell_type": "code",
   "execution_count": 29,
   "metadata": {},
   "outputs": [
    {
     "name": "stdout",
     "output_type": "stream",
     "text": [
      "{'southeast', 'southwest', 'northeast', 'northwest'}\n"
     ]
    }
   ],
   "source": [
    "unique_regions = set(region)\n",
    "print(unique_regions)"
   ]
  },
  {
   "cell_type": "code",
   "execution_count": 47,
   "metadata": {},
   "outputs": [
    {
     "name": "stdout",
     "output_type": "stream",
     "text": [
      "Number of people from Southeast region = 364\n",
      "Number of people from Southwest region = 325\n",
      "Number of people from Northeast region = 324\n",
      "Number of people from Northwest region = 325\n"
     ]
    }
   ],
   "source": [
    "#population distribution across the region\n",
    "with open('insurance.csv', newline='') as insurance_csv:\n",
    "    records = csv.DictReader(insurance_csv)\n",
    "    southeast = []\n",
    "    southwest = []\n",
    "    northeast = []\n",
    "    northwest = []\n",
    "    for x in records:\n",
    "        if x['region'] == 'southeast':\n",
    "            southeast.append(x)\n",
    "        elif x['region']== 'southwest':\n",
    "            southwest.append(x)\n",
    "        elif x['region'] == 'northeast':\n",
    "            northeast.append(x)\n",
    "        elif x['region']=='northwest':\n",
    "            northwest.append(x)\n",
    "    print(\"Number of people from Southeast region = \" + str(len(southeast)))\n",
    "    print(\"Number of people from Southwest region = \" + str(len(southwest)))\n",
    "    print(\"Number of people from Northeast region = \" + str(len(northeast)))\n",
    "    print(\"Number of people from Northwest region = \" + str(len(northwest)))"
   ]
  },
  {
   "cell_type": "markdown",
   "metadata": {},
   "source": [
    "Therefore, among the participants in the data, most come from the Southeast region. The other regions have approximately the same.\n",
    "\n",
    "Now lets dive into trends in each region. Let's start with smokers. Which region has the highest number of smokers?"
   ]
  },
  {
   "cell_type": "code",
   "execution_count": 44,
   "metadata": {},
   "outputs": [
    {
     "name": "stdout",
     "output_type": "stream",
     "text": [
      "Percentage of smokers in Southeast are : 25.0\n",
      "Percentage of smokers in Southwest are : 17.846153846153847\n",
      "Percentage of smokers in Northeast are : 20.679012345679013\n",
      "Percentage of smokers in Northwest are : 17.846153846153847\n"
     ]
    }
   ],
   "source": [
    "#Smokers perecentage across the regions\n",
    "with open('insurance.csv', newline='') as insurance_csv:\n",
    "    records = csv.DictReader(insurance_csv)\n",
    "    smokers_se = [] #list for smokers in Southeast region\n",
    "    smokers_sw = []\n",
    "    smokers_ne = []\n",
    "    smokers_nw = []\n",
    "    for r in records:\n",
    "        if r['smoker'] == 'yes':  # Check if the 'smoker' value in the record is 'yes'\n",
    "            if r['region'] == 'southeast':\n",
    "                smokers_se.append(r)\n",
    "            elif r['region'] == 'southwest':\n",
    "                smokers_sw.append(r)\n",
    "            elif r['region'] == 'northeast':\n",
    "                smokers_ne.append(r)\n",
    "            elif r['region'] == 'northwest':\n",
    "                smokers_nw.append(r)\n",
    "    print(\"Percentage of smokers in Southeast are : \" + str(len(smokers_se)*100/len(southeast)))\n",
    "    print(\"Percentage of smokers in Southwest are : \" + str(len(smokers_sw)*100/len(southwest)))\n",
    "    print(\"Percentage of smokers in Northeast are : \" + str(len(smokers_ne)*100/len(northeast)))\n",
    "    print(\"Percentage of smokers in Northwest are : \" + str(len(smokers_nw)*100/len(northwest)))\n"
   ]
  },
  {
   "cell_type": "markdown",
   "metadata": {},
   "source": [
    "Therefore, we can see that Southeast region has the highest percentage of smokers at 25%. This could mean that average_insurance cost in the region could be higher in this region. Let's check if there is a relation."
   ]
  },
  {
   "cell_type": "code",
   "execution_count": 52,
   "metadata": {},
   "outputs": [
    {
     "name": "stdout",
     "output_type": "stream",
     "text": [
      "The average insurance cost for the southeast region is 14735.41 dollars.\n",
      "The average insurance cost for the southwest region is 12346.94 dollars.\n",
      "The average insurance cost for the northeast region is 13406.38 dollars.\n",
      "The average insurance cost for the northwest region is 12417.58 dollars.\n"
     ]
    }
   ],
   "source": [
    "#Average Insurance cost across the regions\n",
    "def average_costs_region(regional):\n",
    "    total_cost_regional = 0.0\n",
    "    average_cost_regional = 0.0\n",
    "    for rec in regional:\n",
    "        total_cost_regional += float(rec['charges'])\n",
    "    average_cost_regional = round(total_cost_regional/len(regional),2)\n",
    "    return average_cost_regional\n",
    "\n",
    "print(\"The average insurance cost for the southeast region is \" + str(average_costs_region(southeast)) + \" dollars.\")\n",
    "print(\"The average insurance cost for the southwest region is \" + str(average_costs_region(southwest)) + \" dollars.\")\n",
    "print(\"The average insurance cost for the northeast region is \" + str(average_costs_region(northeast)) + \" dollars.\")\n",
    "print(\"The average insurance cost for the northwest region is \" + str(average_costs_region(northwest)) + \" dollars.\")"
   ]
  },
  {
   "cell_type": "markdown",
   "metadata": {},
   "source": [
    "As expected, because of the relatively higher number of smokers in the Southeast region, the average insurance cost is higher.\n",
    "\n",
    "Now, let's check the average age in different regions:"
   ]
  },
  {
   "cell_type": "code",
   "execution_count": 56,
   "metadata": {},
   "outputs": [
    {
     "name": "stdout",
     "output_type": "stream",
     "text": [
      "The average age of a person in the southeast region is 38.9 years.\n",
      "The average age of a person in the soutwest region is 39.5 years.\n",
      "The average age of a person in the northeast region is 39.3 years.\n",
      "The average age of a person in the northwest region is 39.2 years.\n"
     ]
    }
   ],
   "source": [
    "#Average Age across the regions\n",
    "def average_age_region(regional):\n",
    "    total_ages = 0\n",
    "    average_age_regional = 0\n",
    "    for person in regional:\n",
    "        total_ages+= int(person['age'])\n",
    "    average_cost_regional = round(total_ages/len(regional),1)\n",
    "    return average_cost_regional\n",
    "\n",
    "print(\"The average age of a person in the southeast region is \" + str(average_age_region(southeast)) + \" years.\")\n",
    "print(\"The average age of a person in the soutwest region is \" + str(average_age_region(southwest)) + \" years.\")\n",
    "print(\"The average age of a person in the northeast region is \" + str(average_age_region(northeast)) + \" years.\")\n",
    "print(\"The average age of a person in the northwest region is \" + str(average_age_region(northwest)) + \" years.\")"
   ]
  },
  {
   "cell_type": "markdown",
   "metadata": {},
   "source": [
    "There is not much variation in average age regionally. Average age of the overall population is around 39 years, as calculated before. The regional averages are in line with this value.\n",
    "\n",
    "Next, we can check which region has people with higher average number of children."
   ]
  },
  {
   "cell_type": "code",
   "execution_count": 58,
   "metadata": {},
   "outputs": [
    {
     "name": "stdout",
     "output_type": "stream",
     "text": [
      "The average number of children per person in the southeast region is 1.05\n",
      "The average number of children per person in the southwest region is 1.14\n",
      "The average number of children per person in the northeast region is 1.05\n",
      "The average number of children per person in the northwest region is 1.15\n"
     ]
    }
   ],
   "source": [
    "#Average number of children per person across the regions\n",
    "def average_num_children(regional):\n",
    "    total_num_children = 0\n",
    "    average_num_childrens = 0\n",
    "    for child in regional:\n",
    "        total_num_children+= int(child['children'])\n",
    "    average_num_childrens = round(total_num_children/len(regional),2)\n",
    "    return average_num_childrens\n",
    "\n",
    "print(\"The average number of children per person in the southeast region is \" + str(average_num_children(southeast)))\n",
    "print(\"The average number of children per person in the southwest region is \" + str(average_num_children(southwest)))\n",
    "print(\"The average number of children per person in the northeast region is \" + str(average_num_children(northeast)))\n",
    "print(\"The average number of children per person in the northwest region is \" + str(average_num_children(northwest)))"
   ]
  },
  {
   "cell_type": "markdown",
   "metadata": {},
   "source": [
    "We can see that the average number of children regionally is similar ans there isn't much variation. \n",
    "\n",
    "We can now check how BMI varies regionally."
   ]
  },
  {
   "cell_type": "code",
   "execution_count": 67,
   "metadata": {},
   "outputs": [
    {
     "name": "stdout",
     "output_type": "stream",
     "text": [
      "The average bmi in the southeast region is 33.36\n",
      "The average bmi in the southwest region is 30.6\n",
      "The average bmi in the northeast region is 29.17\n",
      "The average bmi in the northwest region is 29.2\n"
     ]
    }
   ],
   "source": [
    "#Average BMIs across the regions\n",
    "with open('insurance.csv', newline='') as insurance_csv:\n",
    "    records = csv.DictReader(insurance_csv)\n",
    "    def average_bmi(regional):\n",
    "        total_bmi= 0\n",
    "        avg_bmi = 0\n",
    "        for bmi in regional:\n",
    "            total_bmi+= float(bmi['bmi'])\n",
    "        avg_bmi = round(total_bmi/len(regional),2)\n",
    "        return avg_bmi\n",
    "\n",
    "    print(\"The average bmi in the southeast region is \" + str(average_bmi(southeast)))\n",
    "    print(\"The average bmi in the southwest region is \" + str(average_bmi(southwest)))\n",
    "    print(\"The average bmi in the northeast region is \" + str(average_bmi(northeast)))\n",
    "    print(\"The average bmi in the northwest region is \" + str(average_bmi(northwest)))\n",
    "   \n"
   ]
  },
  {
   "cell_type": "markdown",
   "metadata": {},
   "source": [
    "The BMI in Southeast region is on average is higher compared to the other regions averaging at around  29-30.\n",
    "\n",
    "Lets check the sex distribution in the different regions:\n",
    "\n",
    "\n"
   ]
  },
  {
   "cell_type": "code",
   "execution_count": 75,
   "metadata": {},
   "outputs": [
    {
     "name": "stdout",
     "output_type": "stream",
     "text": [
      "The sex distribution in southeast is (189, 175)\n",
      "The sex distribution in southwest is (163, 162)\n",
      "The sex distribution in northeast is (163, 161)\n",
      "The sex distribution in northwest is (161, 164)\n"
     ]
    }
   ],
   "source": [
    "#Male:Female ratios across the regions\n",
    "def sex_distribution(regional):\n",
    "    males = 0\n",
    "    females = 0\n",
    "    for a in regional:\n",
    "        if a['sex'] == 'male':\n",
    "            males += 1\n",
    "        else:\n",
    "            females += 1\n",
    "    return males, females\n",
    "\n",
    "sex_distribution_se = sex_distribution(southeast)\n",
    "print(\"The sex distribution in southeast is \" + str(sex_distribution_se))\n",
    "sex_distribution_sw = sex_distribution(southwest)\n",
    "print(\"The sex distribution in southwest is \" + str(sex_distribution_sw))\n",
    "sex_distribution_ne = sex_distribution(northeast)\n",
    "print(\"The sex distribution in northeast is \" + str(sex_distribution_ne))\n",
    "sex_distribution_nw = sex_distribution(northwest)\n",
    "print(\"The sex distribution in northwest is \" + str(sex_distribution_nw))\n"
   ]
  },
  {
   "cell_type": "markdown",
   "metadata": {},
   "source": [
    "Sex distribtuion in Southeast shows a slightly higher number of males (189) to females (175). Other regions have an relatively similar ratios of Males to Females."
   ]
  },
  {
   "cell_type": "markdown",
   "metadata": {},
   "source": [
    "### Therefore, we can conclude that regionally speaking, the average insurance cost is higher in the southeast region. The main lever for this can be attributed to a slightly higher number of smokers as well as slightly higher bmi in the region. Another cause could also be slightly higher number of males compared to females in the region. The other attributes such as number of children and similar across all regions."
   ]
  },
  {
   "cell_type": "markdown",
   "metadata": {},
   "source": [
    "We can also analyze, the average insurance cost of a smoker vs a non-smoker. It would surely be an interesting analysis."
   ]
  },
  {
   "cell_type": "code",
   "execution_count": 81,
   "metadata": {},
   "outputs": [
    {
     "name": "stdout",
     "output_type": "stream",
     "text": [
      "Average insurance cost for a smoker is: 32050.23 dollars.\n",
      "Average insurance cost for a non-smoker is: 8434.27 dollars.\n",
      "Difference in average costs between a smoker and a non smoker: 23615.96 dollars.\n"
     ]
    }
   ],
   "source": [
    "#Average Insurance cost for a smoker vs. non-smoker\n",
    "with open('insurance.csv', newline='') as insurance_csv:\n",
    "    records = csv.DictReader(insurance_csv)\n",
    "    total_cost_smoker = 0\n",
    "    n_smoker = 0\n",
    "    n_nonsmoker = 0\n",
    "    total_cost_non_smoker = 0\n",
    "    for temp in records:\n",
    "        if temp['smoker'] == 'yes':\n",
    "            total_cost_smoker+=float(temp['charges'])\n",
    "            n_smoker+=1\n",
    "        else:\n",
    "            total_cost_non_smoker+=float(temp['charges'])\n",
    "            n_nonsmoker+=1\n",
    "    average_cost_smoker = round(total_cost_smoker/n_smoker,2)\n",
    "    average_cost_nonsmoker = round(total_cost_non_smoker/n_nonsmoker,2)\n",
    "    print(\"Average insurance cost for a smoker is: \" + str(average_cost_smoker) + \" dollars.\")\n",
    "    print(\"Average insurance cost for a non-smoker is: \" + str(average_cost_nonsmoker) + \" dollars.\")\n",
    "    print(\"Difference in average costs between a smoker and a non smoker: \" + str(average_cost_smoker - average_cost_nonsmoker) + \" dollars.\")\n",
    "            \n",
    "            "
   ]
  },
  {
   "cell_type": "markdown",
   "metadata": {},
   "source": [
    "There is a stark difference in the average insurance costs of a smoker and a non-smoker, equivalent to 23,615.96 dollars. Thus, we can conclude that the smoking is the biggest lever when it comes to the amount of insurance cost."
   ]
  }
 ],
 "metadata": {
  "kernelspec": {
   "display_name": "Python 3 (ipykernel)",
   "language": "python",
   "name": "python3"
  },
  "language_info": {
   "codemirror_mode": {
    "name": "ipython",
    "version": 3
   },
   "file_extension": ".py",
   "mimetype": "text/x-python",
   "name": "python",
   "nbconvert_exporter": "python",
   "pygments_lexer": "ipython3",
   "version": "3.11.3"
  }
 },
 "nbformat": 4,
 "nbformat_minor": 4
}
